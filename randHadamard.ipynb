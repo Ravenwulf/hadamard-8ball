{
 "cells": [
  {
   "cell_type": "code",
   "execution_count": null,
   "metadata": {},
   "outputs": [],
   "source": [
    "import numpy as np\n",
    "\n",
    "# Importing standard Qiskit libraries\n",
    "from qiskit import QuantumCircuit, transpile, Aer, IBMQ\n",
    "from qiskit.tools.jupyter import *\n",
    "from qiskit.visualization import *\n",
    "from ibm_quantum_widgets import *\n",
    "from qiskit.providers.aer import QasmSimulator\n",
    "\n",
    "# Loading IBM Quantum account\n",
    "provider = IBMQ.load_account()"
   ]
  },
  {
   "cell_type": "code",
   "execution_count": null,
   "metadata": {},
   "outputs": [],
   "source": [
    "available_cloud_backends = provider.backends()\n",
    "print('\\nHere is the list of cloud backends that are available to you:')\n",
    "for i in available_cloud_backends: print(i)\n",
    "\n",
    "available_local_backends = Aer.backends()\n",
    "print('\\nHere is the list of local backends that are available to you:')\n",
    "for i in available_local_backends: print(i)"
   ]
  },
  {
   "cell_type": "code",
   "execution_count": null,
   "metadata": {},
   "outputs": [],
   "source": [
    "circ = QuantumCircuit(1,1)\n",
    "circ.h(0)\n",
    "meas = QuantumCircuit(1,1)\n",
    "meas.measure(0,0)\n",
    "qc = circ.compose(meas)"
   ]
  },
  {
   "cell_type": "code",
   "execution_count": null,
   "metadata": {},
   "outputs": [],
   "source": [
    "qc.draw()"
   ]
  },
  {
   "cell_type": "code",
   "execution_count": null,
   "metadata": {},
   "outputs": [],
   "source": [
    "## Qasm Simulation\n",
    "\n",
    "# backend_sim = Aer.get_backend('qasm_simulator')\n",
    "# job_sim = backend_sim.run(transpile(qc, backend_sim), shots=1000)\n",
    "# result = job_sim.result()\n",
    "# counts = result.get_counts(qc)\n",
    "# print(counts)\n",
    "# if counts.get('0')==1:\n",
    "#     print('NO.')\n",
    "# else:\n",
    "#     print('YES.') "
   ]
  },
  {
   "cell_type": "code",
   "execution_count": null,
   "metadata": {},
   "outputs": [],
   "source": [
    "# Uses IBM Quantum Computer in Bogota Columbia\n",
    "# (change real_device to use a different backend)\n",
    "\n",
    "real_device = provider.get_backend('ibmq_bogota')\n",
    "job = real_device.run(transpile(qc, real_device), shots=2000)\n",
    "result = job.result()\n",
    "counts = result.get_counts(qc)\n",
    "print(counts)\n",
    "print('INSERT MAGIC 8BALL QUESTION HERE')\n",
    "if counts.get('0')==1:\n",
    "    print('NO.')\n",
    "else:\n",
    "    print('YES.')"
   ]
  }
 ],
 "metadata": {
  "language_info": {
   "name": "python"
  },
  "orig_nbformat": 4
 },
 "nbformat": 4,
 "nbformat_minor": 2
}
